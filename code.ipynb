{
  "nbformat": 4,
  "nbformat_minor": 0,
  "metadata": {
    "colab": {
      "name": "code.ipynb",
      "provenance": [],
      "collapsed_sections": [],
      "include_colab_link": true
    },
    "kernelspec": {
      "name": "python3",
      "display_name": "Python 3"
    }
  },
  "cells": [
    {
      "cell_type": "markdown",
      "metadata": {
        "id": "view-in-github",
        "colab_type": "text"
      },
      "source": [
        "<a href=\"https://colab.research.google.com/github/mnsv73/brain-tumour-segmentation/blob/master/code.ipynb\" target=\"_parent\"><img src=\"https://colab.research.google.com/assets/colab-badge.svg\" alt=\"Open In Colab\"/></a>"
      ]
    },
    {
      "cell_type": "code",
      "metadata": {
        "id": "xSCnz_mPgl_d",
        "colab_type": "code",
        "outputId": "93de0bf2-edb0-4c1f-cf35-9146b1fe7986",
        "colab": {
          "base_uri": "https://localhost:8080/",
          "height": 33
        }
      },
      "source": [
        "#imports \n",
        "import numpy as np\n",
        "import pandas as pd\n",
        "import matplotlib as mlt\n",
        "import tensorflow as tf\n",
        "import os\n",
        "import pathlib\n",
        "import keras\n",
        "from keras import regularizers\n",
        "from keras.models import Model\n",
        "from keras.models import Sequential\n",
        "from keras.layers import Convolution2D\n",
        "from keras.layers import Conv2D\n",
        "from keras.layers import MaxPooling2D\n",
        "from keras.layers import Flatten\n",
        "from keras.layers import Dense, Input\n",
        "from keras.layers import Activation, ZeroPadding2D, Lambda,Concatenate\n",
        "from keras.layers import AveragePooling2D, MaxPooling2D, Dropout, GlobalMaxPooling2D, GlobalAveragePooling2D, Add\n",
        "from keras.preprocessing.image import ImageDataGenerator, array_to_img, img_to_array, load_img\n",
        "import h5py\n",
        "from keras.utils import layer_utils"
      ],
      "execution_count": 0,
      "outputs": [
        {
          "output_type": "stream",
          "text": [
            "Using TensorFlow backend.\n"
          ],
          "name": "stderr"
        }
      ]
    },
    {
      "cell_type": "code",
      "metadata": {
        "id": "JM-WHdSW6e3X",
        "colab_type": "code",
        "outputId": "b86497e9-47aa-4746-87d2-34e7628ca362",
        "colab": {
          "base_uri": "https://localhost:8080/",
          "height": 261
        }
      },
      "source": [
        "!pip3 install medpy"
      ],
      "execution_count": 0,
      "outputs": [
        {
          "output_type": "stream",
          "text": [
            "Collecting medpy\n",
            "\u001b[?25l  Downloading https://files.pythonhosted.org/packages/3b/70/c1fd5dd60242eee81774696ea7ba4caafac2bad8f028bba94b1af83777d7/MedPy-0.4.0.tar.gz (151kB)\n",
            "\r\u001b[K     |██▏                             | 10kB 17.4MB/s eta 0:00:01\r\u001b[K     |████▎                           | 20kB 3.0MB/s eta 0:00:01\r\u001b[K     |██████▌                         | 30kB 3.5MB/s eta 0:00:01\r\u001b[K     |████████▋                       | 40kB 2.9MB/s eta 0:00:01\r\u001b[K     |██████████▉                     | 51kB 3.2MB/s eta 0:00:01\r\u001b[K     |█████████████                   | 61kB 3.7MB/s eta 0:00:01\r\u001b[K     |███████████████                 | 71kB 4.0MB/s eta 0:00:01\r\u001b[K     |█████████████████▎              | 81kB 3.9MB/s eta 0:00:01\r\u001b[K     |███████████████████▍            | 92kB 4.3MB/s eta 0:00:01\r\u001b[K     |█████████████████████▋          | 102kB 4.4MB/s eta 0:00:01\r\u001b[K     |███████████████████████▊        | 112kB 4.4MB/s eta 0:00:01\r\u001b[K     |██████████████████████████      | 122kB 4.4MB/s eta 0:00:01\r\u001b[K     |████████████████████████████    | 133kB 4.4MB/s eta 0:00:01\r\u001b[K     |██████████████████████████████▏ | 143kB 4.4MB/s eta 0:00:01\r\u001b[K     |████████████████████████████████| 153kB 4.4MB/s \n",
            "\u001b[?25hRequirement already satisfied: scipy>=1.1.0 in /usr/local/lib/python3.6/dist-packages (from medpy) (1.4.1)\n",
            "Requirement already satisfied: numpy>=1.11.0 in /usr/local/lib/python3.6/dist-packages (from medpy) (1.18.3)\n",
            "Collecting SimpleITK>=1.1.0\n",
            "\u001b[?25l  Downloading https://files.pythonhosted.org/packages/f8/d8/53338c34f71020725ffb3557846c80af96c29c03bc883551a2565aa68a7c/SimpleITK-1.2.4-cp36-cp36m-manylinux1_x86_64.whl (42.5MB)\n",
            "\u001b[K     |████████████████████████████████| 42.5MB 97kB/s \n",
            "\u001b[?25hBuilding wheels for collected packages: medpy\n",
            "  Building wheel for medpy (setup.py) ... \u001b[?25l\u001b[?25hdone\n",
            "  Created wheel for medpy: filename=MedPy-0.4.0-cp36-cp36m-linux_x86_64.whl size=753465 sha256=14eed250f85885ce41597bc9949343454c14a8a7292307734bd30aba1b1d864f\n",
            "  Stored in directory: /root/.cache/pip/wheels/8c/c9/9c/2c6281c7a72b9fb1570862a4f028af7ce38405008354fbf870\n",
            "Successfully built medpy\n",
            "Installing collected packages: SimpleITK, medpy\n",
            "Successfully installed SimpleITK-1.2.4 medpy-0.4.0\n"
          ],
          "name": "stdout"
        }
      ]
    },
    {
      "cell_type": "code",
      "metadata": {
        "id": "VhhKnx0TfV4F",
        "colab_type": "code",
        "outputId": "86eab7e9-9c8c-4668-9d36-9a66864d2554",
        "colab": {
          "base_uri": "https://localhost:8080/",
          "height": 118
        }
      },
      "source": [
        "#code for linking google drive and google colab.. 1. run this script 2. enter the authorization code and press enter 3. drive will be mounted sucessfully\n",
        "from google.colab import drive\n",
        "drive.mount('/content/gdrive')\n"
      ],
      "execution_count": 0,
      "outputs": [
        {
          "output_type": "stream",
          "text": [
            "Go to this URL in a browser: https://accounts.google.com/o/oauth2/auth?client_id=947318989803-6bn6qk8qdgf4n4g3pfee6491hc0brc4i.apps.googleusercontent.com&redirect_uri=urn%3aietf%3awg%3aoauth%3a2.0%3aoob&response_type=code&scope=email%20https%3a%2f%2fwww.googleapis.com%2fauth%2fdocs.test%20https%3a%2f%2fwww.googleapis.com%2fauth%2fdrive%20https%3a%2f%2fwww.googleapis.com%2fauth%2fdrive.photos.readonly%20https%3a%2f%2fwww.googleapis.com%2fauth%2fpeopleapi.readonly\n",
            "\n",
            "Enter your authorization code:\n",
            "··········\n",
            "Mounted at /content/gdrive\n"
          ],
          "name": "stdout"
        }
      ]
    },
    {
      "cell_type": "code",
      "metadata": {
        "id": "opl7yAc9P41k",
        "colab_type": "code",
        "colab": {}
      },
      "source": [
        "\n",
        "#now coming to pre-processing\n",
        "#stuff to do.... the 1% highest and lowest intensities are removed. lite\n",
        "#Then, we apply an N4ITK bias correction to T1 and T1C modalities. when to do?\n",
        "#The data is then normalized\n",
        "#write the code to load all the images...\n",
        "#trial... and final input\n",
        "#inputs of function.. path1, path2, path3 and path4 are paths of image modalities flair, t1, t1c and t2 respectively\n",
        "# a is the index of the 2D image depthwise.. in our case it seems to range from 0 to 155\n",
        "#output is a tensor which can be fed into CNN...\n",
        "from sklearn.preprocessing import normalize\n",
        "from PIL import Image\n",
        "import numpy as np\n",
        "import matplotlib.cm as cm\n",
        "import matplotlib.pyplot as plt\n",
        "from medpy.io import load, save\n",
        "def gen_image(path1, path2, path3,path4, a):   \n",
        "  image_t1, image_header1 = load(path2)\n",
        "  image_t2, image_header2 =load(path4)\n",
        "  image_t1c, image_header1c =load(path3)\n",
        "  image_flair, image_headerr =load(path1)\n",
        "  t1x, t1y, t1z = image_t1.shape\n",
        "  #assumption.. all channels are equi-dimensional\n",
        "  \n",
        "  imgt1 = image_t1[:,:,a]\n",
        "  imgt1 = normalize(imgt1)\n",
        "  imgt2 = image_t2[:,:,a]\n",
        "  imgt2 = normalize(imgt2)\n",
        "  imgt1c = image_t1c[:,:,a]\n",
        "  imgt1c = normalize(imgt1c)\n",
        "  imgtflair = image_flair[:,:,a]\n",
        "  imgtflair = normalize(imgtflair)\n",
        "  #images are stacked depth wise\n",
        "  final_image = np.dstack([imgt1, imgt2, imgt1c, imgtflair])\n",
        "\n",
        "  #print(final_image.shape)\n",
        "  #plt.imshow(imgt1,cmap = cm.Greys_r)\n",
        "  #plt.show()\n",
        "  #plt.imshow(imgt2,cmap = cm.Greys_r)\n",
        "  #plt.show()\n",
        "  #plt.imshow(imgt1c,cmap = cm.Greys_r)\n",
        "  #plt.show()\n",
        "  #plt.imshow(imgtflair,cmap = cm.Greys_r)\n",
        "  #plt.show()\n",
        "  #final image cant be visulaised properly, imshow supports only RGB channels\n",
        "  #plt.imshow(final_image)\n",
        "  #plt.show()\n",
        "  \n",
        "\n",
        "  #final_tensor = to_tensor(final_image)\n",
        "  return final_image\n"
      ],
      "execution_count": 0,
      "outputs": []
    },
    {
      "cell_type": "code",
      "metadata": {
        "id": "8O1pA17cUkDg",
        "colab_type": "code",
        "colab": {}
      },
      "source": [
        "#n dimensional numpy array to tensor\n",
        "import torch\n",
        "def to_tensor(arr):\n",
        "  tens = torch.from_numpy(arr)\n",
        "  return tens\n"
      ],
      "execution_count": 0,
      "outputs": []
    },
    {
      "cell_type": "code",
      "metadata": {
        "id": "JtXwTbfqjVHc",
        "colab_type": "code",
        "colab": {}
      },
      "source": [
        "#N4 Normalisation to be done for T1 and T1c .mha files\n",
        "\n",
        "import SimpleITK as sitk\n",
        "\n",
        "path='/content/gdrive/My Drive/NNFL Assignment/BRATS 2015 Dataset/Training/HGG/brats_2013_pat0001_1/VSD.Brain.XX.O.MR_T1.54513/VSD.Brain.XX.O.MR_T1.54513.mha'\n",
        "#path is the location of the .mha file. Modify it as per the files in your drive. \n",
        "\n",
        "inputImage = sitk.ReadImage(path)\n",
        "maskImage = sitk.OtsuThreshold( inputImage, 0, 1, 200 )\n",
        "#Otsu thresholding sets the default mask\n",
        "\n",
        "inputImage = sitk.Cast( inputImage, sitk.sitkFloat32 )\n",
        "#Actual input image is of type int16, it has to be cast to Float32 \n",
        "corrector = sitk.N4BiasFieldCorrectionImageFilter()\n",
        "#corrector.SetMaximumNumberOfIterations( 1 ). It takes the default value for number of iterations.\n",
        "\n",
        "output = corrector.Execute( inputImage, maskImage )\n",
        "\n",
        "output_fn = path[:-4] + '_n.mha'\n",
        "#Output normalised image is stored in the same folder as input with the input filename along with _n.mha\n",
        "sitk.WriteImage( output, output_fn)\n"
      ],
      "execution_count": 0,
      "outputs": []
    },
    {
      "cell_type": "code",
      "metadata": {
        "id": "XCgTzDBijfLm",
        "colab_type": "code",
        "colab": {}
      },
      "source": [
        "#For comparing the images before and after N4 normalisation\n",
        "image_data1, image_header1 = load('/content/gdrive/My Drive/BRATS2015_Training/HGG/brats_2013_pat0001_1/VSD.Brain.XX.O.MR_T1c.54514/VSD.Brain.XX.O.MR_T1c.54514.mha')\n",
        "#This is the original image\n",
        "image_data2, image_header2 = load('/content/gdrive/My Drive/BRATS2015_Training/HGG/brats_2013_pat0001_1/VSD.Brain.XX.O.MR_T1c.54514/VSD.Brain.XX.O.MR_T1c.54514_n.mha')\n",
        "#The same image after normalisation\n",
        "for a in [5,25,46,57,68,74,90,100]:\n",
        "  image1 = image_data1[:,:,a]\n",
        "  image2 = image_data2[:,:,a]\n",
        "  \n",
        "  plt.imshow(image1,cmap='gray')\n",
        "  plt.show()\n",
        "  \n",
        "  plt.imshow(image2,cmap='gray')\n",
        "  plt.show()"
      ],
      "execution_count": 0,
      "outputs": []
    },
    {
      "cell_type": "code",
      "metadata": {
        "id": "bJhIHhBRQKWb",
        "colab_type": "code",
        "outputId": "3e31815f-60a7-44e1-8b08-ffafbda10862",
        "colab": {
          "base_uri": "https://localhost:8080/",
          "height": 86
        }
      },
      "source": [
        "#to check only one brain here\n",
        "#path = '/content/gdrive/My Drive/NNFL Assignment/brats_tcia_pat493_0001'\n",
        "path = '/content/gdrive/My Drive/BRATS2015_Training/HGG/brats_tcia_pat499_0001'\n",
        "output = []\n",
        "#hf = h5py.File('/content/gdrive/My Drive/NNFL Assignment/data1.h5', 'a')\n",
        "hf = h5py.File('/content/gdrive/My Drive/NNFL Assignment/data_may1.h5', 'a')\n",
        "j=0\n",
        "with os.scandir(path) as brats:\n",
        "  modularity_path = []\n",
        "  for folder3 in brats:          \n",
        "    path3 = path + '/' + folder3.name\n",
        "    if (folder3.name.find('more')!=-1):\n",
        "      with os.scandir(path3) as vsdbrain:\n",
        "        for file in vsdbrain:\n",
        "          if file.name.endswith('mha'):\n",
        "            path4 = path3 + '/' + file.name\n",
        "            output.append(path4)\n",
        "    else:\n",
        "      with os.scandir(path3) as vsdbrain:\n",
        "        for file in vsdbrain:\n",
        "          if file.name.endswith('mha'):\n",
        "            path4 = path3 + '/' + file.name\n",
        "            modularity_path.append(path4)      \n",
        "#pass the modularity path values to gen_image, but what to return and how to manage\n",
        "sorted_path = sorted(modularity_path)\n",
        "print(sorted_path)\n",
        "g = hf.create_group(str(j))\n",
        "for i in range (0, 155):\n",
        "  #can use tables. directly send it for training\n",
        "  d = gen_image(sorted_path[0], sorted_path[1], sorted_path[2], sorted_path[3], i )\n",
        "  g.create_dataset(str(i), data=d)\n",
        "j=j+1\n",
        "print(j)\n",
        "print(output)"
      ],
      "execution_count": 0,
      "outputs": [
        {
          "output_type": "stream",
          "text": [
            "['/content/gdrive/My Drive/BRATS2015_Training/HGG/brats_tcia_pat499_0001/VSD.Brain.XX.O.MR_Flair.36620/VSD.Brain.XX.O.MR_Flair.36620.mha', '/content/gdrive/My Drive/BRATS2015_Training/HGG/brats_tcia_pat499_0001/VSD.Brain.XX.O.MR_T1.36621/VSD.Brain.XX.O.MR_T1.36621.mha', '/content/gdrive/My Drive/BRATS2015_Training/HGG/brats_tcia_pat499_0001/VSD.Brain.XX.O.MR_T1c.36622/VSD.Brain.XX.O.MR_T1c.36622.mha', '/content/gdrive/My Drive/BRATS2015_Training/HGG/brats_tcia_pat499_0001/VSD.Brain.XX.O.MR_T2.36623/VSD.Brain.XX.O.MR_T2.36623.mha']\n",
            "1\n",
            "['/content/gdrive/My Drive/BRATS2015_Training/HGG/brats_tcia_pat499_0001/VSD.Brain_3more.XX.O.OT.42835/VSD.Brain_3more.XX.O.OT.42835.mha']\n"
          ],
          "name": "stdout"
        }
      ]
    },
    {
      "cell_type": "code",
      "metadata": {
        "id": "qEttf9OuIwez",
        "colab_type": "code",
        "colab": {}
      },
      "source": [
        "#to convert ground truth(output) to arrays, store it in a different FILE.... 240,240,155\n",
        "for i in range(len(output)):\n",
        "  data, header = load(output[i])\n",
        "\n"
      ],
      "execution_count": 0,
      "outputs": []
    },
    {
      "cell_type": "code",
      "metadata": {
        "id": "xPkr-oUfRJnH",
        "colab_type": "code",
        "outputId": "e393e7d8-0fd6-4f27-f70a-f84e97750bf9",
        "colab": {
          "base_uri": "https://localhost:8080/",
          "height": 301
        }
      },
      "source": [
        "g1 = hf.get('0')\n",
        "print(g1)\n",
        "d1 = g1.get('57')\n",
        "print(d1)\n",
        "n1 = np.array(d1)\n",
        "plt.imshow(n1)\n",
        "plt.show()\n",
        "#print(n1)"
      ],
      "execution_count": 0,
      "outputs": [
        {
          "output_type": "stream",
          "text": [
            "<HDF5 group \"/0\" (155 members)>\n",
            "<HDF5 dataset \"57\": shape (240, 240, 4), type \"<f8\">\n"
          ],
          "name": "stdout"
        },
        {
          "output_type": "display_data",
          "data": {
            "image/png": "[encoded data removed]",
            "text/plain": [
              "<Figure size 432x288 with 1 Axes>"
            ]
          },
          "metadata": {
            "tags": [],
            "needs_background": "light"
          }
        }
      ]
    },
    {
      "cell_type": "code",
      "metadata": {
        "id": "ACemqicfPQh9",
        "colab_type": "code",
        "colab": {}
      },
      "source": [
        "hf.close()"
      ],
      "execution_count": 0,
      "outputs": []
    },
    {
      "cell_type": "code",
      "metadata": {
        "id": "KEDElOz5TZo3",
        "colab_type": "code",
        "outputId": "aa6b92a1-6c4f-4014-b04f-d93168cebd66",
        "colab": {
          "base_uri": "https://localhost:8080/",
          "height": 1000
        }
      },
      "source": [
        "#loading and pre-processing of training set\n",
        "#no of folders in: LGG 54     HGG 220\n",
        "#273MB per brain, 73GB?\n",
        "#path = '/content/gdrive/My Drive/NNFL Assignment/BRATS 2015 Dataset/Training/'\n",
        "path = '/content/gdrive/My Drive/BRATS2015_Training/'\n",
        "output = []\n",
        "df = h5py.File('/content/gdrive/My Drive/NNFL Assignment/data_may1final2.h5', 'a')\n",
        "j=0\n",
        "with os.scandir(path) as training:\n",
        "  for folder1 in training:\n",
        "    path1 = path + '/' + folder1.name\n",
        "    with os.scandir(path1) as lgg_hgg:\n",
        "      for folder2 in lgg_hgg:\n",
        "        path2 = path1 + '/' + folder2.name\n",
        "        #print(folder2.name)\n",
        "        with os.scandir(path2) as brats:\n",
        "          modularity_path = []\n",
        "          for folder3 in brats:          \n",
        "            path3 = path2 + '/' + folder3.name\n",
        "            if (folder3.name.find('more')!=-1):\n",
        "              with os.scandir(path3) as vsdbrain:\n",
        "                for file in vsdbrain:\n",
        "                  if file.name.endswith('mha'):\n",
        "                    path4 = path3 + '/' + file.name\n",
        "                    output.append(path4)\n",
        "            else:\n",
        "              with os.scandir(path3) as vsdbrain:\n",
        "                for file in vsdbrain:\n",
        "                  if file.name.endswith('mha'):\n",
        "                    path4 = path3 + '/' + file.name\n",
        "                    modularity_path.append(path4)      \n",
        "        #pass the modularity path values to gen_image, but what to return and how to manage\n",
        "        sorted_path = sorted(modularity_path)\n",
        "        #print(sorted_path)\n",
        "        g = df.create_group(str(j))\n",
        "        for i in range (0, 155):\n",
        "          d = gen_image(sorted_path[0], sorted_path[1], sorted_path[2], sorted_path[3], i )\n",
        "          g.create_dataset(str(i), data=d)\n",
        "        j=j+1\n",
        "        print(j)\n",
        "#print(output)"
      ],
      "execution_count": 0,
      "outputs": [
        {
          "output_type": "stream",
          "text": [
            "1\n",
            "2\n",
            "3\n",
            "4\n",
            "5\n",
            "6\n",
            "7\n",
            "8\n",
            "9\n",
            "10\n",
            "11\n",
            "12\n",
            "13\n",
            "14\n",
            "15\n",
            "16\n",
            "17\n",
            "18\n",
            "19\n",
            "20\n",
            "21\n",
            "22\n",
            "23\n",
            "24\n",
            "25\n",
            "26\n",
            "27\n",
            "28\n",
            "29\n",
            "30\n",
            "31\n",
            "32\n",
            "33\n",
            "34\n",
            "35\n",
            "36\n",
            "37\n",
            "38\n",
            "39\n",
            "40\n",
            "41\n",
            "42\n",
            "43\n",
            "44\n",
            "45\n",
            "46\n",
            "47\n",
            "48\n",
            "49\n",
            "50\n",
            "51\n",
            "52\n",
            "53\n",
            "54\n",
            "55\n",
            "56\n",
            "57\n",
            "58\n",
            "59\n",
            "60\n",
            "61\n",
            "62\n",
            "63\n",
            "64\n",
            "65\n",
            "66\n",
            "67\n",
            "68\n",
            "69\n",
            "70\n",
            "71\n",
            "72\n",
            "73\n",
            "74\n"
          ],
          "name": "stdout"
        }
      ]
    },
    {
      "cell_type": "code",
      "metadata": {
        "id": "fg3FlKkq-9OA",
        "colab_type": "code",
        "colab": {}
      },
      "source": [
        "#no need to run if you have just created file\n",
        "df = h5py.File('/content/gdrive/My Drive/NNFL Assignment/data_final.h5', 'r')"
      ],
      "execution_count": 0,
      "outputs": []
    },
    {
      "cell_type": "code",
      "metadata": {
        "id": "7jwvJ8LUGOhb",
        "colab_type": "code",
        "outputId": "e0be523d-e537-44ff-90b5-09b2a450c2a9",
        "colab": {
          "base_uri": "https://localhost:8080/",
          "height": 35
        }
      },
      "source": [
        "for key in df.keys():\n",
        "  print(key)"
      ],
      "execution_count": 0,
      "outputs": [
        {
          "output_type": "stream",
          "text": [
            "0\n"
          ],
          "name": "stdout"
        }
      ]
    },
    {
      "cell_type": "code",
      "metadata": {
        "id": "ngqh8dfF_AJn",
        "colab_type": "code",
        "outputId": "35b5d2e0-7fda-4b41-bd9c-808a2c7b5351",
        "colab": {
          "base_uri": "https://localhost:8080/",
          "height": 52
        }
      },
      "source": [
        "g1 = df.get('27')\n",
        "print(g1)\n",
        "d1 = g1.get('43')\n",
        "print(d1)\n",
        "n1 = np.array(d1)\n",
        "plt.imshow(n1)\n",
        "plt.show()\n",
        "#print(n1)'''"
      ],
      "execution_count": 0,
      "outputs": [
        {
          "output_type": "stream",
          "text": [
            "None\n"
          ],
          "name": "stdout"
        },
        {
          "output_type": "execute_result",
          "data": {
            "text/plain": [
              "\"d1 = g1.get('43')\\nprint(d1)\\nn1 = np.array(d1)\\nplt.imshow(n1)\\nplt.show()\\n#print(n1)\""
            ]
          },
          "metadata": {
            "tags": []
          },
          "execution_count": 10
        }
      ]
    },
    {
      "cell_type": "code",
      "metadata": {
        "id": "sEE-yLn9Gpdr",
        "colab_type": "code",
        "colab": {}
      },
      "source": [
        "\n",
        "\n",
        "#two way model code... img is a tensor\n",
        "def two_way_CNN(img):\n",
        "  \n",
        "  #valid padding means no padding, stride is 1 by default\n",
        "  \n",
        "  O1 = Conv2D(filters= 64,kernel_size =(7,7),strides=(1,1),padding='valid',kernel_regularizer=regularizers.l1_l2(0.01,0.01))(img)\n",
        "  O2 = Conv2D(filters= 64,kernel_size =(7,7),strides=(1,1),padding='valid',kernel_regularizer=regularizers.l1_l2(0.01,0.01))(img)\n",
        "  #Maxout function... as per my understanding\n",
        "  #It takes as input a list of tensors, all of the same shape, and returns a single tensor (also of the same shape).\n",
        "  Max_O = keras.layers.Maximum()([O1,O2])\n",
        "  Max_O = MaxPooling2D(pool_size=(4,4), padding='valid',strides=(1,1), data_format='channels_last')(Max_O)\n",
        "  \n",
        "   #Coming to the second layer ...\n",
        "  O3 = Conv2D(filters= 64,kernel_size =(3,3),strides=(1,1),padding='valid',kernel_regularizer=regularizers.l1_l2(0.01,0.01))(Max_O)\n",
        "  O4 = Conv2D(filters= 64,kernel_size =(3,3),strides=(1,1),padding='valid',kernel_regularizer=regularizers.l1_l2(0.01,0.01))(Max_O)\n",
        "  Max_O = keras.layers.Maximum()([O3,O4])\n",
        "  Max_O = MaxPooling2D(pool_size=(2,2),padding='valid',strides=(1,1),data_format='channels_last')(Max_O)\n",
        "\n",
        "   #for the second path(global).. no pooling here\n",
        "  O5=Conv2D(filters= 160,kernel_size =(13,13),strides=(1,1),padding='valid',kernel_regularizer=regularizers.l1_l2(0.01,0.01))(img)\n",
        "  O6=Conv2D(filters= 160,kernel_size =(13,13),strides=(1,1),padding='valid',kernel_regularizer=regularizers.l1_l2(0.01,0.01))(img)\n",
        "  Max_O3 = keras.layers.Maximum()([O5,O6])\n",
        "\n",
        " \n",
        "\n",
        " \n",
        "\n",
        "  #time for concatenation...\n",
        "  Max_O4 = Concatenate()([Max_O,Max_O3])\n",
        "  #our final output...\n",
        "  Max_O5 = Conv2D(filters=5,kernel_size=(21,21),strides=(1,1), padding ='valid', activation = 'softmax',kernel_regularizer=regularizers.l1_l2(0.01,0.01))(Max_O4)\n",
        "  return Max_O5"
      ],
      "execution_count": 0,
      "outputs": []
    },
    {
      "cell_type": "code",
      "metadata": {
        "id": "3ilAkfnh7u5B",
        "colab_type": "code",
        "colab": {}
      },
      "source": [
        "#Input cascade function....both inputs are Keras Tensors\n",
        "def inputCascadeCNN():\n",
        "  #size of patch in img1 is 4x65x65 and is fed to two way CNN\n",
        "  #size of patch in img2 is 4x33x33 and is fed directly to this one\n",
        "  img1 = Input((65,65,4))\n",
        "  \n",
        "  O1 = two_way_CNN(img1)   \n",
        "  # we got the output time for concatenation\n",
        "  \n",
        "  img2 = Input((33,33,4))    #9*33*33\n",
        "  O2 = Concatenate()([O1,img2])\n",
        "  # Concatenated input is fed into two way again...\n",
        "  \n",
        "  O2 = two_way_CNN(O2)\n",
        "  final_model = Model(inputs = [img1, img2], outputs = O2 )\n",
        "  return final_model"
      ],
      "execution_count": 0,
      "outputs": []
    },
    {
      "cell_type": "code",
      "metadata": {
        "id": "Om1EJYwJGwwS",
        "colab_type": "code",
        "outputId": "43242359-093c-4afe-a572-aba46613d37a",
        "colab": {
          "base_uri": "https://localhost:8080/",
          "height": 1000
        }
      },
      "source": [
        "model = inputCascadeCNN()\n",
        "model.summary()"
      ],
      "execution_count": 0,
      "outputs": [
        {
          "output_type": "stream",
          "text": [
            "Model: \"model_1\"\n",
            "__________________________________________________________________________________________________\n",
            "Layer (type)                    Output Shape         Param #     Connected to                     \n",
            "==================================================================================================\n",
            "input_1 (InputLayer)            (None, 65, 65, 4)    0                                            \n",
            "__________________________________________________________________________________________________\n",
            "conv2d_1 (Conv2D)               (None, 59, 59, 64)   12608       input_1[0][0]                    \n",
            "__________________________________________________________________________________________________\n",
            "conv2d_2 (Conv2D)               (None, 59, 59, 64)   12608       input_1[0][0]                    \n",
            "__________________________________________________________________________________________________\n",
            "maximum_1 (Maximum)             (None, 59, 59, 64)   0           conv2d_1[0][0]                   \n",
            "                                                                 conv2d_2[0][0]                   \n",
            "__________________________________________________________________________________________________\n",
            "max_pooling2d_1 (MaxPooling2D)  (None, 56, 56, 64)   0           maximum_1[0][0]                  \n",
            "__________________________________________________________________________________________________\n",
            "conv2d_3 (Conv2D)               (None, 54, 54, 64)   36928       max_pooling2d_1[0][0]            \n",
            "__________________________________________________________________________________________________\n",
            "conv2d_4 (Conv2D)               (None, 54, 54, 64)   36928       max_pooling2d_1[0][0]            \n",
            "__________________________________________________________________________________________________\n",
            "maximum_2 (Maximum)             (None, 54, 54, 64)   0           conv2d_3[0][0]                   \n",
            "                                                                 conv2d_4[0][0]                   \n",
            "__________________________________________________________________________________________________\n",
            "conv2d_5 (Conv2D)               (None, 53, 53, 160)  108320      input_1[0][0]                    \n",
            "__________________________________________________________________________________________________\n",
            "conv2d_6 (Conv2D)               (None, 53, 53, 160)  108320      input_1[0][0]                    \n",
            "__________________________________________________________________________________________________\n",
            "max_pooling2d_2 (MaxPooling2D)  (None, 53, 53, 64)   0           maximum_2[0][0]                  \n",
            "__________________________________________________________________________________________________\n",
            "maximum_3 (Maximum)             (None, 53, 53, 160)  0           conv2d_5[0][0]                   \n",
            "                                                                 conv2d_6[0][0]                   \n",
            "__________________________________________________________________________________________________\n",
            "concatenate_1 (Concatenate)     (None, 53, 53, 224)  0           max_pooling2d_2[0][0]            \n",
            "                                                                 maximum_3[0][0]                  \n",
            "__________________________________________________________________________________________________\n",
            "conv2d_7 (Conv2D)               (None, 33, 33, 5)    493925      concatenate_1[0][0]              \n",
            "__________________________________________________________________________________________________\n",
            "input_2 (InputLayer)            (None, 33, 33, 4)    0                                            \n",
            "__________________________________________________________________________________________________\n",
            "concatenate_2 (Concatenate)     (None, 33, 33, 9)    0           conv2d_7[0][0]                   \n",
            "                                                                 input_2[0][0]                    \n",
            "__________________________________________________________________________________________________\n",
            "conv2d_8 (Conv2D)               (None, 27, 27, 64)   28288       concatenate_2[0][0]              \n",
            "__________________________________________________________________________________________________\n",
            "conv2d_9 (Conv2D)               (None, 27, 27, 64)   28288       concatenate_2[0][0]              \n",
            "__________________________________________________________________________________________________\n",
            "maximum_4 (Maximum)             (None, 27, 27, 64)   0           conv2d_8[0][0]                   \n",
            "                                                                 conv2d_9[0][0]                   \n",
            "__________________________________________________________________________________________________\n",
            "max_pooling2d_3 (MaxPooling2D)  (None, 24, 24, 64)   0           maximum_4[0][0]                  \n",
            "__________________________________________________________________________________________________\n",
            "conv2d_10 (Conv2D)              (None, 22, 22, 64)   36928       max_pooling2d_3[0][0]            \n",
            "__________________________________________________________________________________________________\n",
            "conv2d_11 (Conv2D)              (None, 22, 22, 64)   36928       max_pooling2d_3[0][0]            \n",
            "__________________________________________________________________________________________________\n",
            "maximum_5 (Maximum)             (None, 22, 22, 64)   0           conv2d_10[0][0]                  \n",
            "                                                                 conv2d_11[0][0]                  \n",
            "__________________________________________________________________________________________________\n",
            "conv2d_12 (Conv2D)              (None, 21, 21, 160)  243520      concatenate_2[0][0]              \n",
            "__________________________________________________________________________________________________\n",
            "conv2d_13 (Conv2D)              (None, 21, 21, 160)  243520      concatenate_2[0][0]              \n",
            "__________________________________________________________________________________________________\n",
            "max_pooling2d_4 (MaxPooling2D)  (None, 21, 21, 64)   0           maximum_5[0][0]                  \n",
            "__________________________________________________________________________________________________\n",
            "maximum_6 (Maximum)             (None, 21, 21, 160)  0           conv2d_12[0][0]                  \n",
            "                                                                 conv2d_13[0][0]                  \n",
            "__________________________________________________________________________________________________\n",
            "concatenate_3 (Concatenate)     (None, 21, 21, 224)  0           max_pooling2d_4[0][0]            \n",
            "                                                                 maximum_6[0][0]                  \n",
            "__________________________________________________________________________________________________\n",
            "conv2d_14 (Conv2D)              (None, 1, 1, 5)      493925      concatenate_3[0][0]              \n",
            "==================================================================================================\n",
            "Total params: 1,921,034\n",
            "Trainable params: 1,921,034\n",
            "Non-trainable params: 0\n",
            "__________________________________________________________________________________________________\n"
          ],
          "name": "stdout"
        }
      ]
    },
    {
      "cell_type": "code",
      "metadata": {
        "id": "JUSskH0vJFBg",
        "colab_type": "code",
        "outputId": "3aac602a-0d4e-40d3-a2a5-f26c70fdaf3d",
        "colab": {
          "base_uri": "https://localhost:8080/",
          "height": 126
        }
      },
      "source": [
        "#for training the data...\n",
        "#Configures the model for training.. go to https://keras.io/models/model/ for more info\n",
        "model.compile(loss='mean_squared_error', metrics = ['accuracy'])\n",
        "#insert the input given by x and the output given by y as the parameters...\n",
        "#x should be a list of one same image repeated twice\n",
        "model.fit(x=,y=,batch_size=128)\n",
        "#for predicting..\n",
        "#insert the input as x\n",
        "model.predict(x=,batch_size=128)\n"
      ],
      "execution_count": 0,
      "outputs": [
        {
          "output_type": "error",
          "ename": "SyntaxError",
          "evalue": "ignored",
          "traceback": [
            "\u001b[0;36m  File \u001b[0;32m\"<ipython-input-17-0b9e8beff6ea>\"\u001b[0;36m, line \u001b[0;32m4\u001b[0m\n\u001b[0;31m    model.fit(x=,y=,batch_size=128)\u001b[0m\n\u001b[0m                ^\u001b[0m\n\u001b[0;31mSyntaxError\u001b[0m\u001b[0;31m:\u001b[0m invalid syntax\n"
          ]
        }
      ]
    },
    {
      "cell_type": "code",
      "metadata": {
        "id": "XnzFaQwaGg0U",
        "colab_type": "code",
        "outputId": "a0786e2c-497d-447f-d8f0-9a68d14ff1d5",
        "colab": {
          "base_uri": "https://localhost:8080/",
          "height": 126
        }
      },
      "source": [
        "data = np.array([x for x in range(0,1000)])\n",
        "for i in range(0, 1000):\n",
        "   model.fit([np.array([data[i]]), np.array([data[i]]), nb_epochs=1, batch_size=1, verbose=0)"
      ],
      "execution_count": 0,
      "outputs": [
        {
          "output_type": "error",
          "ename": "SyntaxError",
          "evalue": "ignored",
          "traceback": [
            "\u001b[0;36m  File \u001b[0;32m\"<ipython-input-18-2f0db8c313c7>\"\u001b[0;36m, line \u001b[0;32m3\u001b[0m\n\u001b[0;31m    model.fit([np.array([data[i]]), np.array([data[i]]), nb_epochs=1, batch_size=1, verbose=0)\u001b[0m\n\u001b[0m                                                                  ^\u001b[0m\n\u001b[0;31mSyntaxError\u001b[0m\u001b[0;31m:\u001b[0m invalid syntax\n"
          ]
        }
      ]
    },
    {
      "cell_type": "code",
      "metadata": {
        "id": "nY8N205jQNCw",
        "colab_type": "code",
        "outputId": "2c26e151-dc2f-4f98-f0f8-4dbbd5329553",
        "colab": {
          "base_uri": "https://localhost:8080/",
          "height": 223
        }
      },
      "source": [
        "data, header = load(output[0])\n",
        "for i in range(0, 155):\n",
        "  img = data[:,:,i]\n",
        "  plt.imshow(img, cmap=None)\n",
        "  plt.show()"
      ],
      "execution_count": 0,
      "outputs": [
        {
          "output_type": "error",
          "ename": "IndexError",
          "evalue": "ignored",
          "traceback": [
            "\u001b[0;31m---------------------------------------------------------------------------\u001b[0m",
            "\u001b[0;31mIndexError\u001b[0m                                Traceback (most recent call last)",
            "\u001b[0;32m<ipython-input-19-4ec50d2bc5eb>\u001b[0m in \u001b[0;36m<module>\u001b[0;34m()\u001b[0m\n\u001b[0;32m----> 1\u001b[0;31m \u001b[0mdata\u001b[0m\u001b[0;34m,\u001b[0m \u001b[0mheader\u001b[0m \u001b[0;34m=\u001b[0m \u001b[0mload\u001b[0m\u001b[0;34m(\u001b[0m\u001b[0moutput\u001b[0m\u001b[0;34m[\u001b[0m\u001b[0;36m0\u001b[0m\u001b[0;34m]\u001b[0m\u001b[0;34m)\u001b[0m\u001b[0;34m\u001b[0m\u001b[0;34m\u001b[0m\u001b[0m\n\u001b[0m\u001b[1;32m      2\u001b[0m \u001b[0;32mfor\u001b[0m \u001b[0mi\u001b[0m \u001b[0;32min\u001b[0m \u001b[0mrange\u001b[0m\u001b[0;34m(\u001b[0m\u001b[0;36m0\u001b[0m\u001b[0;34m,\u001b[0m \u001b[0;36m155\u001b[0m\u001b[0;34m)\u001b[0m\u001b[0;34m:\u001b[0m\u001b[0;34m\u001b[0m\u001b[0;34m\u001b[0m\u001b[0m\n\u001b[1;32m      3\u001b[0m   \u001b[0mimg\u001b[0m \u001b[0;34m=\u001b[0m \u001b[0mdata\u001b[0m\u001b[0;34m[\u001b[0m\u001b[0;34m:\u001b[0m\u001b[0;34m,\u001b[0m\u001b[0;34m:\u001b[0m\u001b[0;34m,\u001b[0m\u001b[0mi\u001b[0m\u001b[0;34m]\u001b[0m\u001b[0;34m\u001b[0m\u001b[0;34m\u001b[0m\u001b[0m\n\u001b[1;32m      4\u001b[0m   \u001b[0mplt\u001b[0m\u001b[0;34m.\u001b[0m\u001b[0mimshow\u001b[0m\u001b[0;34m(\u001b[0m\u001b[0mimg\u001b[0m\u001b[0;34m,\u001b[0m \u001b[0mcmap\u001b[0m\u001b[0;34m=\u001b[0m\u001b[0;32mNone\u001b[0m\u001b[0;34m)\u001b[0m\u001b[0;34m\u001b[0m\u001b[0;34m\u001b[0m\u001b[0m\n\u001b[1;32m      5\u001b[0m   \u001b[0mplt\u001b[0m\u001b[0;34m.\u001b[0m\u001b[0mshow\u001b[0m\u001b[0;34m(\u001b[0m\u001b[0;34m)\u001b[0m\u001b[0;34m\u001b[0m\u001b[0;34m\u001b[0m\u001b[0m\n",
            "\u001b[0;31mIndexError\u001b[0m: list index out of range"
          ]
        }
      ]
    },
    {
      "cell_type": "code",
      "metadata": {
        "id": "Q2NdTykTQRiK",
        "colab_type": "code",
        "colab": {}
      },
      "source": [
        ""
      ],
      "execution_count": 0,
      "outputs": []
    }
  ]
}